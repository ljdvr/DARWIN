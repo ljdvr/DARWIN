{
 "cells": [
  {
   "cell_type": "code",
   "execution_count": 9,
   "id": "60d67a8a",
   "metadata": {},
   "outputs": [
    {
     "name": "stdout",
     "output_type": "stream",
     "text": [
      "<class 'pandas.core.frame.DataFrame'>\n",
      "RangeIndex: 174 entries, 0 to 173\n",
      "Columns: 452 entries, ID to class\n",
      "dtypes: float64(300), int64(150), object(2)\n",
      "memory usage: 614.6+ KB\n"
     ]
    },
    {
     "data": {
      "text/plain": [
       "class                  0\n",
       "ID                     0\n",
       "air_time1              0\n",
       "disp_index1            0\n",
       "pressure_mean23        0\n",
       "                      ..\n",
       "mean_acc_in_air1       0\n",
       "mean_acc_on_paper1     0\n",
       "mean_gmrt1             0\n",
       "mean_jerk_in_air1      0\n",
       "mean_jerk_on_paper1    0\n",
       "Length: 452, dtype: int64"
      ]
     },
     "execution_count": 9,
     "metadata": {},
     "output_type": "execute_result"
    }
   ],
   "source": [
    "import pandas as pd\n",
    "import numpy as np\n",
    "import matplotlib.pyplot as plt\n",
    "import seaborn as sns\n",
    "\n",
    "df = pd.read_csv(\"data.csv\")\n",
    "\n",
    "df.head()\n",
    "df.info()\n",
    "df.isnull().sum().sort_values(ascending=False) #Missing Values"
   ]
  }
 ],
 "metadata": {
  "kernelspec": {
   "display_name": "Python 3",
   "language": "python",
   "name": "python3"
  },
  "language_info": {
   "codemirror_mode": {
    "name": "ipython",
    "version": 3
   },
   "file_extension": ".py",
   "mimetype": "text/x-python",
   "name": "python",
   "nbconvert_exporter": "python",
   "pygments_lexer": "ipython3",
   "version": "3.11.1"
  }
 },
 "nbformat": 4,
 "nbformat_minor": 5
}
