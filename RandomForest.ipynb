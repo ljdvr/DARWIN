{
 "cells": [
  {
   "cell_type": "code",
   "execution_count": null,
   "id": "2dcb442d",
   "metadata": {},
   "outputs": [],
   "source": [
    "import pandas as pd\n",
    "import seaborn as sns\n",
    "\n",
    "import matplotlib.pyplot as plt\n",
    "\n",
    "from sklearn.model_selection import train_test_split\n",
    "from sklearn.ensemble import RandomForestClassifier\n",
    "from sklearn.metrics import classification_report, confusion_matrix, accuracy_score\n",
    "\n",
    "df = pd.read_csv('DARWIN_cleaned.csv')  # Load data\n",
    "\n",
    "# Encode labels: convert 'H' (Healthy) and 'P' (Patient) to 0/1\n",
    "df['class'] = df['class'].map({'H': 0, 'P': 1})\n"
   ]
  },
  {
   "cell_type": "code",
   "execution_count": null,
   "id": "f13fec34",
   "metadata": {},
   "outputs": [],
   "source": [
    "# Data splitting (80/20) and model training\n",
    "X = df.drop(columns=['class', 'ID'])\n",
    "y = df['class']\n",
    "\n",
    "X_train, X_test, y_train, y_test = train_test_split(X, y, \n",
    "                                                    test_size=0.2, \n",
    "                                                    random_state=42, \n",
    "                                                    stratify=y)\n",
    "rf = RandomForestClassifier(n_estimators=100, \n",
    "                            random_state=42) \n",
    "\n",
    "rf.fit(X_train, y_train)"
   ]
  },
  {
   "cell_type": "code",
   "execution_count": null,
   "id": "f7fdbe11",
   "metadata": {},
   "outputs": [],
   "source": [
    "# Model Evaluation (Classification Report and Confusion Matrix)\n",
    "y_pred = rf.predict(X_test)\n",
    "\n",
    "print(\"Confusion Matrix:\\n\", confusion_matrix(y_test, y_pred))\n",
    "print(\"\\nClassification Report:\\n\", classification_report(y_test, y_pred))\n",
    "print(\"\\nAccuracy Score:\", accuracy_score(y_test, y_pred))"
   ]
  },
  {
   "cell_type": "code",
   "execution_count": null,
   "id": "698c84ab",
   "metadata": {},
   "outputs": [],
   "source": [
    "# Generate confusion matrix\n",
    "cm = confusion_matrix(y_test, y_pred)\n",
    "\n",
    "# Plot heatmap\n",
    "plt.figure(figsize=(6, 4))\n",
    "sns.heatmap(cm, annot=True, fmt='d', cmap='Blues', \n",
    "            xticklabels=['Healthy (0)', 'Patient (1)'],\n",
    "            yticklabels=['Healthy (0)', 'Patient (1)'])\n",
    "\n",
    "plt.title('Confusion Matrix - Random Forest')\n",
    "plt.xlabel('Predicted')\n",
    "plt.ylabel('Actual')\n",
    "plt.tight_layout()\n",
    "plt.show()"
   ]
  },
  {
   "cell_type": "code",
   "execution_count": null,
   "id": "5237371e",
   "metadata": {},
   "outputs": [],
   "source": [
    "# Feature Importance\n",
    "feature_importances = pd.Series(rf.feature_importances_, index=X.columns)\n",
    "top_features = feature_importances.sort_values(ascending=False).head(10)\n",
    "\n",
    "print(\"Top 10 Important Features:\")\n",
    "print(top_features)\n",
    "\n",
    "plt.figure(figsize=(12, 4))\n",
    "sns.barplot(x=top_features.values, y=top_features.index)\n",
    "plt.title(\"Top 10 Important Features\")\n",
    "plt.xlabel(\"Importance Score\")\n",
    "plt.ylabel(\"Feature\")\n",
    "plt.tight_layout()\n",
    "plt.show()"
   ]
  }
 ],
 "metadata": {
  "kernelspec": {
   "display_name": "Python 3",
   "language": "python",
   "name": "python3"
  },
  "language_info": {
   "codemirror_mode": {
    "name": "ipython",
    "version": 3
   },
   "file_extension": ".py",
   "mimetype": "text/x-python",
   "name": "python",
   "nbconvert_exporter": "python",
   "pygments_lexer": "ipython3",
   "version": "3.11.1"
  }
 },
 "nbformat": 4,
 "nbformat_minor": 5
}
