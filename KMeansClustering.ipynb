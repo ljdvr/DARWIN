{
 "cells": [
  {
   "cell_type": "code",
   "execution_count": null,
   "id": "b2943f94",
   "metadata": {},
   "outputs": [],
   "source": [
    "import pandas as pd\n",
    "import numpy as np\n",
    "import matplotlib.pyplot as plt\n",
    "from sklearn.preprocessing import StandardScaler\n",
    "from sklearn.decomposition import PCA\n",
    "from sklearn.cluster import KMeans\n",
    "from sklearn.metrics import silhouette_score, adjusted_rand_score\n",
    "import seaborn as sns\n",
    "\n",
    "# 1. Load Data\n",
    "df = pd.read_csv('DARWIN_standardized.csv')  # Replace with your file path/URL\n",
    "print(\"Data shape:\", df.shape)"
   ]
  },
  {
   "cell_type": "code",
   "execution_count": null,
   "id": "c4ee4485",
   "metadata": {},
   "outputs": [],
   "source": [
    "# 2. Preprocessing\n",
    "X = df.drop(columns=['class', 'ID']) if 'class' in df.columns else df.drop(columns=['ID'])\n",
    "y = df['class'] if 'class' in df.columns else None"
   ]
  },
  {
   "cell_type": "code",
   "execution_count": null,
   "id": "bf5b4388",
   "metadata": {},
   "outputs": [],
   "source": [
    "# 3. PCA for Visualization\n",
    "pca = PCA(n_components=2)\n",
    "X_pca = pca.fit_transform(X)\n",
    "\n",
    "# Plot PCA\n",
    "plt.figure(figsize=(10, 6))\n",
    "# Check if y is valid for hue plotting (exists and not all NaN)\n",
    "if y is not None and not y.isnull().all():\n",
    "    sns.scatterplot(x=X_pca[:, 0], y=X_pca[:, 1], hue=y, palette='viridis')\n",
    "else:\n",
    "    # If y is not suitable for hue, plot without hue and palette\n",
    "    sns.scatterplot(x=X_pca[:, 0], y=X_pca[:, 1])\n",
    "plt.title(f\"PCA (Variance: PC1={pca.explained_variance_ratio_[0]:.1%}, PC2={pca.explained_variance_ratio_[1]:.1%})\")\n",
    "plt.xlabel(\"PC1\")\n",
    "plt.ylabel(\"PC2\")\n",
    "plt.show()"
   ]
  },
  {
   "cell_type": "code",
   "execution_count": null,
   "id": "9b6b8ad5",
   "metadata": {},
   "outputs": [],
   "source": [
    "# 4. K-Means Clustering\n",
    "# Elbow Method\n",
    "inertias = []\n",
    "for k in range(1, 6):\n",
    "    kmeans = KMeans(n_clusters=k, random_state=42)\n",
    "    kmeans.fit(X_pca)\n",
    "    inertias.append(kmeans.inertia_)\n",
    "\n",
    "plt.figure(figsize=(8, 4))\n",
    "plt.plot(range(1, 6), inertias, marker='o')\n",
    "plt.title(\"Elbow Method for Optimal K\")\n",
    "plt.xlabel(\"Number of clusters\")\n",
    "plt.ylabel(\"Inertia\")\n",
    "plt.show()\n",
    "\n",
    "# Run K-Means (assuming K=2 for AD vs Control)\n",
    "kmeans = KMeans(n_clusters=2, random_state=42)\n",
    "clusters = kmeans.fit_predict(X_pca)\n",
    "\n",
    "# Evaluation\n",
    "# Check if y exists and does not contain any NaN values before calculating adjusted_rand_score\n",
    "if y is not None and not y.isnull().any():\n",
    "    print(f\"Adjusted Rand Index: {adjusted_rand_score(y, clusters):.3f}\")\n",
    "print(f\"Silhouette Score: {silhouette_score(X_pca, clusters):.3f}\")\n",
    "\n",
    "# Plot Clusters\n",
    "plt.figure(figsize=(10, 6))\n",
    "sns.scatterplot(x=X_pca[:, 0], y=X_pca[:, 1], hue=clusters, palette='viridis')\n",
    "plt.title(\"K-Means Clusters\")\n",
    "plt.xlabel(\"PC1\")\n",
    "plt.ylabel(\"PC2\")\n",
    "plt.show()"
   ]
  },
  {
   "cell_type": "code",
   "execution_count": null,
   "id": "1a945350",
   "metadata": {},
   "outputs": [],
   "source": [
    "# 5. Cluster Interpretation\n",
    "# Inverse transform to original feature space (if needed)\n",
    "if 'scaler' in locals():  # Only if StandardScaler was used\n",
    "    cluster_centers_original = scaler.inverse_transform(pca.inverse_transform(kmeans.cluster_centers_))\n",
    "else:\n",
    "    cluster_centers_original = pca.inverse_transform(kmeans.cluster_centers_)\n",
    "\n",
    "cluster_means = pd.DataFrame(cluster_centers_original, columns=X.columns)\n",
    "print(\"\\nCluster Centers (Top 5 Features):\")\n",
    "display(cluster_means.iloc[:, :5])  # Show first 5 features for brevity\n",
    "\n",
    "# Feature Distributions by Cluster\n",
    "df['cluster'] = clusters\n",
    "plt.figure(figsize=(15, 5))\n",
    "for i, col in enumerate(X.columns[:3]):  # Plot first 3 features\n",
    "    plt.subplot(1, 3, i+1)\n",
    "    sns.boxplot(x='cluster', y=col, data=df)\n",
    "    plt.title(f\"{col} by Cluster\")\n",
    "plt.tight_layout()\n",
    "plt.show()"
   ]
  }
 ],
 "metadata": {
  "kernelspec": {
   "display_name": "Python 3",
   "language": "python",
   "name": "python3"
  },
  "language_info": {
   "codemirror_mode": {
    "name": "ipython",
    "version": 3
   },
   "file_extension": ".py",
   "mimetype": "text/x-python",
   "name": "python",
   "nbconvert_exporter": "python",
   "pygments_lexer": "ipython3",
   "version": "3.11.12"
  }
 },
 "nbformat": 4,
 "nbformat_minor": 5
}
