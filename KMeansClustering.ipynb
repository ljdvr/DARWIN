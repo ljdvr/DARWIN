{
 "cells": [
  {
   "cell_type": "code",
   "execution_count": null,
   "id": "b2943f94",
   "metadata": {},
   "outputs": [],
   "source": [
    "import pandas as pd\n",
    "import numpy as np\n",
    "from sklearn.preprocessing import StandardScaler, LabelEncoder\n",
    "from sklearn.decomposition import PCA\n",
    "from sklearn.cluster import KMeans\n",
    "from sklearn.metrics import silhouette_score\n",
    "import matplotlib.pyplot as plt\n",
    "import seaborn as sns\n",
    "from kneed import KneeLocator\n",
    "\n",
    "# 1. Load Data\n",
    "df = pd.read_csv('/content/DARWIN_cleaned.csv')  # Replace with your file path/URL\n",
    "print(\"Data shape:\", df.shape)"
   ]
  },
  {
   "cell_type": "code",
   "execution_count": null,
   "id": "68ca3393",
   "metadata": {},
   "outputs": [],
   "source": [
    "# Drop target and ID columns\n",
    "X = df.drop(columns=['class', 'ID']) if 'class' in df.columns else df.drop(columns=['ID'])\n",
    "y = df['class'] if 'class' in df.columns else None\n",
    "\n",
    "# Label encode all categorical (object) columns in X\n",
    "for column in X.columns:\n",
    "    if X[column].dtype == 'object':\n",
    "        X[column] = LabelEncoder().fit_transform(X[column])"
   ]
  },
  {
   "cell_type": "code",
   "execution_count": null,
   "id": "7d1be8d7",
   "metadata": {},
   "outputs": [],
   "source": [
    "scaler = StandardScaler()\n",
    "X_scaled = scaler.fit_transform(X)"
   ]
  },
  {
   "cell_type": "code",
   "execution_count": null,
   "id": "01733f29",
   "metadata": {},
   "outputs": [],
   "source": [
    "inertias = []\n",
    "K = range(2, 10)\n",
    "\n",
    "for k in K:\n",
    "    kmeans = KMeans(n_clusters=k, random_state=42)\n",
    "    kmeans.fit(X_scaled)\n",
    "    inertias.append(kmeans.inertia_)\n",
    "\n",
    "plt.figure(figsize=(8, 5))\n",
    "plt.plot(K, inertias, marker='o', linestyle='--')\n",
    "plt.title('Elbow Method for Optimal k')\n",
    "plt.xlabel('Number of Clusters (k)')\n",
    "plt.ylabel('Inertia')\n",
    "plt.grid(True)\n",
    "plt.show()\n",
    "\n",
    "knee = KneeLocator(K, inertias, curve='convex', direction='decreasing')\n",
    "optimal_k = knee.knee\n",
    "print(f\"Optimal number of clusters detected by KneeLocator: {optimal_k}\")"
   ]
  },
  {
   "cell_type": "code",
   "execution_count": null,
   "id": "17408830",
   "metadata": {},
   "outputs": [],
   "source": [
    "silhouette_scores = []\n",
    "K = range(2, 10)\n",
    "\n",
    "for k in K:\n",
    "    kmeans = KMeans(n_clusters=k, random_state=42)\n",
    "    cluster_labels = kmeans.fit_predict(X_scaled)\n",
    "    score = silhouette_score(X_scaled, cluster_labels)\n",
    "    silhouette_scores.append(score)\n",
    "\n",
    "plt.figure(figsize=(8, 5))\n",
    "plt.plot(K, silhouette_scores, marker='o', linestyle='--', color='orange')\n",
    "plt.title('Silhouette Analysis for Optimal k')\n",
    "plt.xlabel('Number of Clusters (k)')\n",
    "plt.ylabel('Silhouette Score')\n",
    "plt.grid(True)\n",
    "plt.show()\n",
    "\n",
    "# Get silhouette score for optimal_k (if it was found)\n",
    "if optimal_k is not None and optimal_k in K:\n",
    "    silhouette_at_optimal_k = silhouette_scores[K.index(optimal_k)]\n",
    "    print(f\"Silhouette Score at optimal k={optimal_k}: {silhouette_at_optimal_k:.4f}\")\n",
    "else:\n",
    "    print(\"Could not determine silhouette score: optimal_k not in tested range.\")\n",
    "    silhouette_scores.append(score)"
   ]
  },
  {
   "cell_type": "code",
   "execution_count": null,
   "id": "d791a1de",
   "metadata": {},
   "outputs": [],
   "source": [
    "# Analyze cluster centers\n",
    "cluster_centers = pd.DataFrame(kmeans.cluster_centers_, columns=X.columns)\n",
    "\n",
    "print(\"Distinctive features for each cluster:\")\n",
    "for i in range(len(cluster_centers)):\n",
    "    print(f\"\\nCluster {i}:\")\n",
    "\n",
    "    # Sort features by their values in the cluster center\n",
    "    sorted_features = cluster_centers.iloc[i].sort_values()\n",
    "\n",
    "    print(\"Lowest values:\")\n",
    "    print(sorted_features[:5])  # 5 lowest features\n",
    "\n",
    "    print(\"\\nHighest values:\")\n",
    "    print(sorted_features[-5:])  # 5 highest features"
   ]
  },
  {
   "cell_type": "code",
   "execution_count": null,
   "id": "43039f8e",
   "metadata": {},
   "outputs": [],
   "source": [
    "from sklearn.metrics import confusion_matrix\n",
    "\n",
    "conf_mat = confusion_matrix(true_labels, cluster_labels)\n",
    "sns.heatmap(conf_mat, annot=True, fmt=\"d\", cmap=\"Blues\")\n",
    "plt.xlabel(\"Predicted Cluster\")\n",
    "plt.ylabel(\"True Label\")\n",
    "plt.title(\"Confusion Matrix (Clustering vs. True Labels)\")\n",
    "plt.show()"
   ]
  },
  {
   "cell_type": "code",
   "execution_count": null,
   "id": "b34db12d",
   "metadata": {},
   "outputs": [],
   "source": [
    "from sklearn.decomposition import PCA\n",
    "import matplotlib.pyplot as plt\n",
    "\n",
    "# Fit PCA to reduce to 2 components\n",
    "pca = PCA(n_components=2)\n",
    "X_pca = pca.fit_transform(X_scaled)\n",
    "\n",
    "# Get cluster labels from KMeans\n",
    "cluster_labels = kmeans.labels_\n",
    "\n",
    "# Project cluster centers into PCA space\n",
    "centroids_pca = pca.transform(kmeans.cluster_centers_)\n",
    "\n",
    "# Plot clusters in PCA-reduced space\n",
    "plt.figure(figsize=(8, 6))\n",
    "scatter = plt.scatter(X_pca[:, 0], X_pca[:, 1], c=cluster_labels, cmap='tab10', alpha=0.7, s=50)\n",
    "plt.scatter(centroids_pca[:, 0], centroids_pca[:, 1], marker='X', c='black', s=200, label='Centroids')\n",
    "\n",
    "plt.title('Cluster Visualization with PCA')\n",
    "plt.xlabel('Principal Component 1')\n",
    "plt.ylabel('Principal Component 2')\n",
    "plt.colorbar(scatter, label='Cluster')\n",
    "plt.legend()\n",
    "plt.grid(True)\n",
    "plt.tight_layout()\n",
    "plt.show()"
   ]
  },
  {
   "cell_type": "code",
   "execution_count": null,
   "id": "057cabe3",
   "metadata": {},
   "outputs": [],
   "source": [
    "kmeans.fit(X_scaled)\n",
    "y_pred = kmeans.labels_\n",
    "print(y_pred)"
   ]
  },
  {
   "cell_type": "code",
   "execution_count": null,
   "id": "6f1d43a5",
   "metadata": {},
   "outputs": [],
   "source": [
    "from sklearn.metrics import classification_report, accuracy_score, confusion_matrix\n",
    "\n",
    "# Example data (replace with your actual data)\n",
    "# y_true = actual labels, y_pred = predicted cluster labels\n",
    "y_true = np.array([0]*89 + [1]*85)\n",
    "y_pred = kmeans.labels_\n",
    "\n",
    "# Classification Report\n",
    "print(\"Classification Report:\")\n",
    "print(classification_report(y_true, y_pred, target_names=['0', '1']))\n",
    "\n",
    "# Accuracy Score\n",
    "accuracy = accuracy_score(y_true, y_pred)\n",
    "print(f\"\\nAccuracy Score: {accuracy:.3f}\")\n",
    "\n",
    "# Confusion Matrix\n",
    "cm = confusion_matrix(y_true, y_pred)\n",
    "print(\"\\nConfusion Matrix (k=2):\\n\")\n",
    "print(\"Actual Class\")\n",
    "print(\"    0    1\")\n",
    "print(f\"0   {cm[0,0]}    {cm[0,1]}\")  # TN | FP\n",
    "print(f\"1   {cm[1,0]}    {cm[1,1]}\")  # FN | TP\n",
    "\n",
    "# Visualize Confusion Matrix\n",
    "sns.heatmap(cm, annot=True, fmt='d', cmap='Blues', xticklabels=['0', '1'], yticklabels=['0', '1'])\n",
    "plt.xlabel('Predicted Cluster')\n",
    "plt.ylabel('Actual Class')\n",
    "plt.title('Confusion Matrix')\n",
    "plt.show()"
   ]
  }
 ],
 "metadata": {
  "kernelspec": {
   "display_name": "Python 3",
   "language": "python",
   "name": "python3"
  },
  "language_info": {
   "codemirror_mode": {
    "name": "ipython",
    "version": 3
   },
   "file_extension": ".py",
   "mimetype": "text/x-python",
   "name": "python",
   "nbconvert_exporter": "python",
   "pygments_lexer": "ipython3",
   "version": "3.11.12"
  }
 },
 "nbformat": 4,
 "nbformat_minor": 5
}
